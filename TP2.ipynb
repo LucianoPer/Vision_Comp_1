{
 "cells": [
  {
   "cell_type": "code",
   "execution_count": 1,
   "metadata": {},
   "outputs": [
    {
     "name": "stdout",
     "output_type": "stream",
     "text": [
      "Using matplotlib backend: Qt5Agg\n"
     ]
    }
   ],
   "source": [
    "%matplotlib\n",
    "\n",
    "import numpy as np\n",
    "\n",
    "import cv2 as cv\n",
    "\n",
    "import matplotlib.pyplot as plt\n",
    "\n",
    "import time"
   ]
  },
  {
   "cell_type": "code",
   "execution_count": 23,
   "metadata": {},
   "outputs": [],
   "source": [
    "img = cv.imread('metalgrid.jpg',0)\n",
    "plt.title('Imagen Original')\n",
    "ax1 = plt.imshow(img,cmap='gray')"
   ]
  },
  {
   "cell_type": "code",
   "execution_count": 71,
   "metadata": {},
   "outputs": [],
   "source": [
    "# Calculo de los gradientes con sobel \n",
    "\n",
    "sobel_X64 = cv.Sobel(img,cv.CV_32F,1,0,ksize=3)\n",
    "sobel_X8 = np.uint8(np.absolute(sobel_X64)/np.absolute(sobel_X64).max()*255)\n",
    "sobel_Y64 = cv.Sobel(img,cv.CV_32F,0,1,ksize=3)\n",
    "sobel_Y8 = np.uint8(np.absolute(sobel_Y64)/np.absolute(sobel_Y64).max()*255)\n",
    "\n",
    "fig1 = plt.figure()\n",
    "ax2 = plt.subplot(2,1,1),plt.imshow(sobel_X8,cmap='gray')\n",
    "plt.title('Gradiente X con Sobel'),plt.xticks([]), plt.yticks([])\n",
    "ax3 = plt.subplot(2,1,2),plt.imshow(sobel_Y8,cmap='gray')\n",
    "plt.title('Gradiente Y con Sobel'),plt.xticks([]), plt.yticks([])\n",
    "plt.show()\n"
   ]
  },
  {
   "cell_type": "code",
   "execution_count": 72,
   "metadata": {},
   "outputs": [],
   "source": [
    "# Calculo de Magnitud y Angulo \n",
    "mag_Grad = np.hypot(sobel_X64,sobel_Y64)  \n",
    "mag_Grad = np.uint8( mag_Grad / mag_Grad.max() * 255 )\n",
    "\n",
    "ang_Grad = np.arctan2(sobel_Y64, sobel_X64)\n",
    "ang_Grad = np.rad2deg(ang_Grad)\n",
    "\n",
    "fig2 =plt.figure()\n",
    "ax4 = plt.subplot(2,1,1)\n",
    "plt.imshow(mag_Grad,cmap='gray')\n",
    "plt.title('Magnitud Gradiente'),plt.xticks([]), plt.yticks([])\n",
    "ax5 = plt.subplot(2,1,2)\n",
    "plt.imshow(ang_Grad,cmap='gray')\n",
    "plt.title('Angulo Gradiente'),plt.xticks([]), plt.yticks([])\n",
    "plt.show()\n"
   ]
  },
  {
   "cell_type": "code",
   "execution_count": 74,
   "metadata": {},
   "outputs": [],
   "source": [
    "# Grafico los gradientes en una porcion de la imagen\n",
    "\n",
    "x = np.arange(0,100,1)\n",
    "y = np.arange(0,100,1)\n",
    "\n",
    "xx,yy = np.meshgrid(x,y)\n",
    "\n",
    "crop_X = sobel_X8[0:100,0:100]\n",
    "crop_Y = sobel_Y8[0:100,0:100]\n",
    "\n",
    "\n",
    "fig3 = plt.subplots(),plt.title('Gradientes')\n",
    "ax5 = plt.quiver(xx,yy,crop_X,crop_Y,cmap='autumn',alpha=0.6)\n",
    "plt.show()"
   ]
  },
  {
   "cell_type": "code",
   "execution_count": null,
   "metadata": {},
   "outputs": [],
   "source": []
  }
 ],
 "metadata": {
  "kernelspec": {
   "display_name": "Python 3",
   "language": "python",
   "name": "python3"
  },
  "language_info": {
   "codemirror_mode": {
    "name": "ipython",
    "version": 3
   },
   "file_extension": ".py",
   "mimetype": "text/x-python",
   "name": "python",
   "nbconvert_exporter": "python",
   "pygments_lexer": "ipython3",
   "version": "3.8.5"
  }
 },
 "nbformat": 4,
 "nbformat_minor": 4
}
