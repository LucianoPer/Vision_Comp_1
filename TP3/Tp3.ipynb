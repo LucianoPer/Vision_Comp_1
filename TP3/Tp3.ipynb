{
 "cells": [
  {
   "cell_type": "code",
   "execution_count": 104,
   "metadata": {
    "scrolled": true
   },
   "outputs": [
    {
     "name": "stdout",
     "output_type": "stream",
     "text": [
      "Using matplotlib backend: Qt5Agg\n"
     ]
    }
   ],
   "source": [
    "%matplotlib\n",
    "\n",
    "import numpy as np\n",
    "import matplotlib.pyplot as plt\n",
    "import cv2 as cv\n"
   ]
  },
  {
   "cell_type": "code",
   "execution_count": 105,
   "metadata": {},
   "outputs": [],
   "source": [
    "img = cv.imread('eyes.jpg')\n",
    "gray = cv.cvtColor(img,cv.COLOR_BGR2GRAY)\n",
    "#cv.imshow('Imagen Original',gray)\n",
    "\n",
    "# Suavizar imagen\n",
    "img2 = cv.medianBlur(gray,9)\n",
    "#cv.imshow('imagen suavizada',img2)\n",
    "# detectar iris \n",
    "\n",
    "# Transformada de Hough para obtener circulos \n",
    "img_hough = img2.copy()\n",
    "img1 = img.copy()\n",
    "circles = cv.HoughCircles(img_hough,cv.HOUGH_GRADIENT,1,minDist=20,param1=190,param2=20,minRadius=20,maxRadius=50)\n",
    "# Distancia minima entre circulos -> minDist\n",
    "circles = np.uint16(np.around(circles))\n",
    "for circle in circles[0,:]:\n",
    "    cv.circle(img1,(circle[0],circle[1]),circle[2],(0,255,0),2)\n",
    "    font = cv.FONT_HERSHEY_SIMPLEX\n",
    "    cv.putText(img1,'D: {}'.format(circle[2]*2),(circle[0]+40,circle[1]), font, 0.75,(0,255,0),2,cv.LINE_AA)\n",
    "    cv.putText(img1,'Center[{},{}]'.format(circle[0],circle[1]),(circle[0]-60,circle[1]+50), font, 0.6,(0,0,255),1,cv.LINE_AA)\n",
    "#plt.imshow(img[:,:,::-1])\n",
    "#plt.show()\n",
    "cv.imshow('Circulos detectados para el Iris',img1)\n",
    "cv.waitKey(0)\n",
    "cv.destroyAllWindows()"
   ]
  },
  {
   "cell_type": "code",
   "execution_count": 106,
   "metadata": {},
   "outputs": [],
   "source": [
    "# Cargo la imagen\n",
    "#================\n",
    "img = cv.imread('eyes.jpg')\n",
    "\n",
    "gray = cv.cvtColor(img, cv.COLOR_BGR2GRAY)\n",
    "\n",
    "# ecualizo la imagen \n",
    "cl1 = cv.createCLAHE(clipLimit=2.3, tileGridSize=(23,23))\n",
    "clahe = cl1.apply(gray)\n",
    "\n",
    "# Aplico filtro de mediana\n",
    "res = cv.medianBlur(clahe,5)\n",
    "\n",
    "#_,res1 = cv.threshold(res,40,255,cv.THRESH_BINARY)\n",
    "\n",
    "#cv.imshow('img. ecualizada',clahe)\n",
    "circles = cv.HoughCircles(res,cv.HOUGH_GRADIENT,1,minDist=39,param1=125,param2=21,minRadius=0,maxRadius=19)\n",
    "# Distancia minima entre circulos -> minDist\n",
    "circles = np.uint16(np.around(circles))\n",
    "for circle in circles[0,:]:\n",
    "    cv.circle(img,(circle[0],circle[1]),circle[2],(0,255,0),2)\n",
    "    font = cv.FONT_HERSHEY_SIMPLEX\n",
    "    cv.putText(img,'D: {}'.format(circle[2]*2),(circle[0]+40,circle[1]), font, 0.75,(0,255,0),2,cv.LINE_AA)\n",
    "    #cv.putText(img,'Center[{},{}]'.format(circle[0],circle[1]),(circle[0]-60,circle[1]+50), font, 0.6,(0,0,255),1,cv.LINE_AA)\n",
    "#plt.imshow(img[:,:,::-1])\n",
    "#plt.show()\n",
    "cv.imshow('Circulos detectados para la pupila',img)\n",
    "cv.waitKey(0)\n",
    "cv.destroyAllWindows()"
   ]
  },
  {
   "cell_type": "code",
   "execution_count": null,
   "metadata": {},
   "outputs": [],
   "source": []
  }
 ],
 "metadata": {
  "kernelspec": {
   "display_name": "Python 3",
   "language": "python",
   "name": "python3"
  },
  "language_info": {
   "codemirror_mode": {
    "name": "ipython",
    "version": 3
   },
   "file_extension": ".py",
   "mimetype": "text/x-python",
   "name": "python",
   "nbconvert_exporter": "python",
   "pygments_lexer": "ipython3",
   "version": "3.8.5"
  }
 },
 "nbformat": 4,
 "nbformat_minor": 4
}
